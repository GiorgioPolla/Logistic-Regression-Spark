{
 "cells": [
  {
   "cell_type": "markdown",
   "metadata": {},
   "source": [
    "# Parallel Logistic Regression Classifier on Spark\n",
    "\n",
    "Author: **Giorgio Polla**  \n",
    "Date: **27/11/2019**  \n",
    "\n",
    "Implementation of a Logistic Regression classifier on Spark, with Python.  \n",
    "The algorithm is tested on the _Spam_ dataset available at https://web.stanford.edu/~hastie/ElemStatLearn/data.html.\n"
   ]
  },
  {
   "cell_type": "markdown",
   "metadata": {},
   "source": [
    "### Libraries and constants\n",
    "\n",
    "Import of the following libraries:  \n",
    "* `time` to track the time performance of the implementation;  \n",
    "* `pyspark` to utilize *Spark*;  \n",
    "* `numpy` to easily operate with number arrays;  \n",
    "* `matplotlib` to plot graphs;  \n",
    "* `random` to provide the random functionalities used in the cross-validation dataset split;  \n",
    "\n",
    "Moreover, some operative constants used in the following are defined, and finally the Spark context is intialised."
   ]
  },
  {
   "cell_type": "code",
   "execution_count": 1,
   "metadata": {},
   "outputs": [],
   "source": [
    "import time\n",
    "import random\n",
    "import pyspark\n",
    "import numpy as np\n",
    "import matplotlib.pyplot as plt\n",
    "from random import randrange\n",
    "\n",
    "FILE_PATH = '../data/spam.txt'\n",
    "OUT_PATH = '../out/'\n",
    "IMG_FORMAT = '.png'\n",
    "N_WORKERS = 8\n",
    "EPSILON = 1e-10"
   ]
  },
  {
   "cell_type": "code",
   "execution_count": 2,
   "metadata": {},
   "outputs": [
    {
     "name": "stdout",
     "output_type": "stream",
     "text": [
      "Initialising Spark Context...\n",
      "Done!\n"
     ]
    }
   ],
   "source": [
    "if 'sc' in locals():\n",
    "    print('Restarting Spark Context...')\n",
    "    sc.stop()\n",
    "else:\n",
    "    print('Initialising Spark Context...')\n",
    "\n",
    "sc = pyspark.SparkContext()\n",
    "print('Done!')"
   ]
  },
  {
   "cell_type": "markdown",
   "metadata": {},
   "source": [
    "### File reading\n",
    "The spam dataset is loaded as an RDD, using the `textFile()` function.  \n",
    "The RDD is then manipulated in order to have each record as a tuple **(X, y)** , where:  \n",
    "**X** is an array containing the features of the example (57 float numbers);  \n",
    "**y** is an integer containing the label of the example (0 or 1).  \n",
    "\n",
    "The result is then quickly tested."
   ]
  },
  {
   "cell_type": "code",
   "execution_count": 3,
   "metadata": {},
   "outputs": [],
   "source": [
    "def read_file(file_path):\n",
    "    rdd = sc.textFile(file_path)\n",
    "    \n",
    "    rdd = rdd.map(\n",
    "        lambda x: (\n",
    "            np.array([float(el) for el in x.split()[:-1]]),\n",
    "            int(x[-1])\n",
    "        )\n",
    "    )\n",
    "    \n",
    "    return rdd"
   ]
  },
  {
   "cell_type": "code",
   "execution_count": 4,
   "metadata": {},
   "outputs": [
    {
     "data": {
      "text/plain": [
       "278.0"
      ]
     },
     "execution_count": 4,
     "metadata": {},
     "output_type": "execute_result"
    }
   ],
   "source": [
    "rdd = read_file(FILE_PATH)\n",
    "rdd.first()[0][56] # test -> 278.0"
   ]
  },
  {
   "cell_type": "markdown",
   "metadata": {},
   "source": [
    "### Standardisation\n",
    "Each row of the RDD is standardised; this is done by first obtaining the mean for each column, then obtaining the standard deviation for them, and finally applying the standardisation formula.  \n",
    "\n",
    "The result is then again quickly tested."
   ]
  },
  {
   "cell_type": "code",
   "execution_count": 5,
   "metadata": {},
   "outputs": [],
   "source": [
    "def standardise(rdd):    \n",
    "    n_rows = rdd.count()\n",
    "    \n",
    "    col_sum = rdd.map(\n",
    "        lambda x:\n",
    "            x[0]\n",
    "    ).reduce(\n",
    "        lambda x, y:\n",
    "            x + y\n",
    "    )\n",
    "    mean = col_sum / n_rows\n",
    "    \n",
    "    variance = rdd.map(\n",
    "        lambda x: \n",
    "            np.square(x[0] - mean)\n",
    "    ).reduce(\n",
    "        lambda x, y:\n",
    "            x + y\n",
    "    )\n",
    "    std_dev = np.sqrt(variance / n_rows)\n",
    "    \n",
    "    rdd = rdd.map(\n",
    "        lambda x: (\n",
    "            (x[0] - mean) /  std_dev,\n",
    "            x[1]\n",
    "        )\n",
    "    )\n",
    "    \n",
    "    return rdd"
   ]
  },
  {
   "cell_type": "code",
   "execution_count": 6,
   "metadata": {},
   "outputs": [
    {
     "data": {
      "text/plain": [
       "-0.008724133882501229"
      ]
     },
     "execution_count": 6,
     "metadata": {},
     "output_type": "execute_result"
    }
   ],
   "source": [
    "rdd = standardise(rdd)\n",
    "rdd.first()[0][56] # test -> -0.008724"
   ]
  },
  {
   "cell_type": "markdown",
   "metadata": {},
   "source": [
    "### Training\n",
    "The training phase follows the typical Logistic Regression fashion, with some adjustments to exploit the Spark parallelisation.  \n",
    "It is worth noting that the notation is consistent, and in particular:  \n",
    "* **rdd** is an RDD containing the records on which to train the model;\n",
    "* **x** is a data point feature array (57 float numbers);  \n",
    "* **y** is a data point label (integer, either 0 or 1);  \n",
    "* **b** is the regression bias term (float number);  \n",
    "* **w** is the regression weights array (57 float numbers);  \n",
    "* **p** is the predicted class probability for of data point (float number between 0 and 1);\n",
    "\n",
    "In the first section there are the support functions for the proper training phase.  \n",
    "* `sigmoid()` simply represents the Sigmoid function;  \n",
    "* `predict_probability()` calculates and returns the predicted class probability **y** for each record, exploting the `sigmoid()` function;  \n",
    "* `cross_entropy()` is the Cross Entropy function, utilised to obtain the training error of the model;  \n",
    "* `row_gradient()` calculates the partial elements needed in the following function to obtain the gradients and the loss;\n",
    "* `gradient()` calculates the gradient for the bias term (**gradient_b**),  the gradient for the weights, in a single array (**gradient_w**), and the sum of the cross entropy error for each record.  \n",
    "\n",
    "*Note: with the term 'gradient' we refer here to the previous step of the process to obtain the actual gradients (it is still nedeed to divide these results by the number of instances used to obtain them, but this will be done later in order to minimise the usage of the division operation); for simplicity's sake, it was still decided to call them in this way. The same reasoning can be applied the cross entropy loss.* "
   ]
  },
  {
   "cell_type": "code",
   "execution_count": 7,
   "metadata": {},
   "outputs": [],
   "source": [
    "def sigmoid(z):\n",
    "    return 1 / (1 + np.exp(-z))\n",
    "\n",
    "\n",
    "def predict_probability(x, b, w):\n",
    "    z = np.dot(x, w) + b\n",
    "    return sigmoid(z)\n",
    "\n",
    "\n",
    "def cross_entropy(p, y):    \n",
    "    if y == 1:\n",
    "        cross_entropy_loss = -np.log(p + EPSILON)\n",
    "    else:\n",
    "        cross_entropy_loss = -np.log(1 - p + EPSILON)\n",
    "    \n",
    "    return cross_entropy_loss\n",
    "\n",
    "\n",
    "def row_gradient(x, y, b, w):\n",
    "    p = predict_probability(x, b, w)\n",
    "    \n",
    "    b_part = p - y\n",
    "    g_part = b_part * x\n",
    "    \n",
    "    ce_loss_part = cross_entropy(p, y)    \n",
    "    return b_part, g_part, ce_loss_part\n",
    "\n",
    "\n",
    "def gradient(rdd, b, w):\n",
    "    gradient_b, gradient_w, ce_loss = rdd.map(\n",
    "        lambda x: \n",
    "            row_gradient(x[0], x[1], b, w)\n",
    "    ).reduce(\n",
    "        lambda x, y: (\n",
    "            x[0] + y[0],\n",
    "            x[1] + y[1],\n",
    "            x[2] + y[2]\n",
    "        )\n",
    "    )\n",
    "    \n",
    "    return gradient_b, gradient_w, ce_loss"
   ]
  },
  {
   "cell_type": "markdown",
   "metadata": {},
   "source": [
    "The train function considerds the additional parameters:  \n",
    "* **iterations**, the number of iterations to repeat in the training phase;\n",
    "* **learning_rate**, the learing rate in the training phase;\n",
    "* **lambda_reg**, the regularization parameter lambda, used to control the Ridge-like regularization adopted;\n",
    "* **verbose**, controlling whether or not to stamp additional information.  \n",
    "\n",
    "The training phase proceeds inside the main iteration loop by calculating each time the gradient for the bias **b** and the weights **w**, applying the gradient descent technique with appropriate regularization, and recording the total loss (**cross_entropy_loss** plus **regularisation_loss**).  \n",
    "At the end of the training phase the function returns the trained bias and weights, as well as the array **loss_history** containing the records of the total loss during the whole process."
   ]
  },
  {
   "cell_type": "code",
   "execution_count": 8,
   "metadata": {},
   "outputs": [],
   "source": [
    "def train(rdd, iterations=10, learning_rate=10, \n",
    "          lambda_reg=0.1, verbose=True, plot_loss=False):\n",
    "    if iterations < 1:\n",
    "        raise ValueError('Invalid number of iterations: must be > 0!')\n",
    "        \n",
    "    start_time = time.time()\n",
    "    \n",
    "    n_rows = rdd.count()\n",
    "    n_features = len(rdd.first()[0])\n",
    "    alpha = learning_rate / n_rows\n",
    "    b = 0\n",
    "    w = np.zeros(n_features)\n",
    "    loss_history = []\n",
    "    \n",
    "    if iterations > 4:\n",
    "        verbose_fraction = np.floor(iterations / 5)\n",
    "    else:\n",
    "        verbose_fraction = 1\n",
    "    \n",
    "    for it in range(iterations):\n",
    "        gradient_b, gradient_w, cross_entropy_loss = gradient(rdd, b, w)\n",
    "        \n",
    "        regularisation_loss = lambda_reg * np.sum(np.square(w)) / 2\n",
    "        regularisation = lambda_reg * w\n",
    "        \n",
    "        b -= alpha * gradient_b\n",
    "        w -= alpha * (gradient_w + regularisation)\n",
    "        \n",
    "        total_loss = (cross_entropy_loss + regularisation_loss) / n_rows\n",
    "        \n",
    "        loss_history.append(total_loss)\n",
    "        if verbose and it % verbose_fraction == 0:\n",
    "            print(\"It. %4d\\t|\\tLoss: %0.4f\\t|\\tTime: %0.2f s\" %  \n",
    "                  (it, total_loss, (time.time() - start_time)))\n",
    "            \n",
    "    total_time = time.time() - start_time\n",
    "    if verbose:\n",
    "        print(\"It. %4d\\t|\\tLoss: %0.4f\\t|\\tTime: %0.2f s\" %\n",
    "              (iterations, total_loss, total_time))\n",
    "        print('\\nTotal time: %0.2f s\\nIters frequency: %0.2f Hz\\n' % \n",
    "              (total_time, iterations / total_time))\n",
    "        \n",
    "    if plot_loss:\n",
    "        plt.style.use('seaborn-darkgrid')\n",
    "        plt.plot(loss_history, linewidth=2)\n",
    "        plt.gcf().subplots_adjust(bottom=0.1)\n",
    "        plt.title('Loss History')\n",
    "        plt.xlabel('Iterations')\n",
    "        plt.ylabel('Loss')\n",
    "        plt.show()\n",
    "        \n",
    "    return b, w, total_time"
   ]
  },
  {
   "cell_type": "markdown",
   "metadata": {},
   "source": [
    "### Performance Evaluation\n",
    "The evaluation is entirely managed by the follwing two functions, following the usual parameter naming conventions.  \n",
    "* `classify()` is a support function that returns wether a data point has been classified as a _True Positve_ (**tp**), a _True Negative_ (**tn**), a _False Negative_ (**fn**) or a _False Positve_ (**fp**);    \n",
    "* `evaluate_row()` is another support function that executes the proper classification in the four said categories for each row of the RDD, in a `map()`.\n",
    "* `evaluate()` computes the traditional evaluation metric for classification, and in particular the **Accuracy**, **Precision**, **Recall**, **Specificity**, **F1-Score**, final **Cost Error**, area under the ROC curve (**AUC**) and precision-recall score (**P-R Score**), and returns them packed in a dictionary. If the parameter **plot** is positively flagged, the two plots of the ROC and precision-recall curves are displayed."
   ]
  },
  {
   "cell_type": "code",
   "execution_count": 9,
   "metadata": {},
   "outputs": [],
   "source": [
    "def classify(p, y, threshold=0.5):\n",
    "    if (p >= threshold) == y:\n",
    "        return 'tp' if y == 1 else 'tn'\n",
    "    else:\n",
    "        return 'fn' if y == 1 else 'fp'\n",
    "    \n",
    "    \n",
    "def evaluate_row(x, y, b, w, threshold=0.5):\n",
    "    p = predict_probability(x, b, w)\n",
    "    c = classify(p, y, threshold=threshold)\n",
    "    return c\n",
    "            \n",
    "        \n",
    "def evaluate(rdd, b, w, threshold=0.5):\n",
    "    if threshold < 0  or threshold > 1:\n",
    "        raise ValueError('Invalid threshold: must be between 0 and 1!')\n",
    "    # Confusion Matrix c_m\n",
    "    c_m = rdd.map(\n",
    "        lambda x: (\n",
    "            evaluate_row(x[0], x[1], b, w, threshold=threshold),\n",
    "            1\n",
    "        )\n",
    "    ).reduceByKey(\n",
    "        lambda x, y:\n",
    "            x + y\n",
    "    )\n",
    "    \n",
    "    c_m = dict(c_m.collect())\n",
    "    wanted_keys = ['tp', 'fp', 'tn', 'fn']\n",
    "    \n",
    "    if len(c_m.keys()) < 4:\n",
    "        for wanted_key in wanted_keys:\n",
    "            if wanted_key not in c_m.keys():\n",
    "                c_m[wanted_key] = 0\n",
    "                \n",
    "    results = {}\n",
    "    \n",
    "    results['Confusion Matrix'] = c_m\n",
    "    \n",
    "    results['Accuracy'] = (c_m['tp'] + c_m['tn']) \\\n",
    "        / (c_m['tp'] + c_m['tn'] + c_m['fp'] + c_m['fn'])\n",
    "    \n",
    "    results['Precision'] = c_m['tp'] / (c_m['tp'] + c_m['fp'] + EPSILON)\n",
    "    \n",
    "    results['Recall'] = c_m['tp'] / (c_m['tp'] + c_m['fn'] + EPSILON)\n",
    "    \n",
    "    results['Specificity'] = c_m['tn'] / (c_m['tn'] + c_m['fp'] + EPSILON)\n",
    "    \n",
    "    results['F1-Score'] = 2 * results['Precision'] * results['Recall'] \\\n",
    "        / (results['Precision'] + results['Recall'] + EPSILON)\n",
    "    \n",
    "    return results"
   ]
  },
  {
   "cell_type": "markdown",
   "metadata": {},
   "source": [
    "The following function calculates and displays (and, in case, saves to file) the ROC and the Precision-Recall curves. The evaluation is obtained by testing the trained model using the `evaluate()` function with different a total of values of **threshold**; the **points** parameter defines how many points to calculate in this evaluation.  \n",
    "\n",
    "Note: the function can be significantly optimised, but since it is never iteratively called it has been left this way, for now."
   ]
  },
  {
   "cell_type": "code",
   "execution_count": 10,
   "metadata": {},
   "outputs": [],
   "source": [
    "def calc_curves(rdd, b, w, points=10, save=False):\n",
    "    # Precision array\n",
    "    prec = []\n",
    "    # True Positive Rate array\n",
    "    tpr = []\n",
    "    # False Positive Rate array\n",
    "    fpr = []\n",
    "    \n",
    "    threshold_list = np.array(range(points + 1)) / points\n",
    "    print('\\nCalculating ROC and PR curves...')\n",
    "    print('Number of points: %d' % points)\n",
    "    \n",
    "    for th in threshold_list:\n",
    "        ev_tmp = evaluate(rdd, b, w, threshold=th)\n",
    "        \n",
    "        prec.append(ev_tmp['Precision'])\n",
    "        tpr.append(ev_tmp['Recall'])\n",
    "        fpr.append(1 - ev_tmp['Specificity'])\n",
    "    \n",
    "    # Plot ROC curve\n",
    "    plt.style.use('seaborn-darkgrid')\n",
    "    plt.plot(fpr, tpr, color='darkorange', linewidth=2,\n",
    "             label='ROC curve')\n",
    "    plt.plot([0, 1], [0, 1], color='navy', linestyle = '--')\n",
    "    plt.gcf().subplots_adjust(bottom=0.1)\n",
    "    plt.legend(loc='lower right')\n",
    "    plt.title('ROC Curve')\n",
    "    plt.xlabel('False Positive Rate')\n",
    "    plt.ylabel('True Positive Rate')\n",
    "    if save:\n",
    "        plt.savefig(OUT_PATH + 'ROC_curve' + IMG_FORMAT)        \n",
    "    plt.figure()\n",
    "    plt.plot()\n",
    "    \n",
    "    # Plot PR curve\n",
    "    plt.style.use('seaborn-darkgrid')\n",
    "    plt.plot(tpr, prec, color='darkblue', linewidth=2,\n",
    "             label='PR curve')\n",
    "    plt.gcf().subplots_adjust(bottom=0.1)\n",
    "    plt.legend(loc='lower left')\n",
    "    plt.title('PR Curve')\n",
    "    plt.xlabel('Recall')\n",
    "    plt.ylabel('Precision')\n",
    "    if save:\n",
    "        plt.savefig(OUT_PATH + 'PR_curve' + IMG_FORMAT)\n",
    "    plt.plot()"
   ]
  },
  {
   "cell_type": "markdown",
   "metadata": {},
   "source": [
    "Here all the previousc funcitons are tested: the model is trained, then it is evaluated (on the same **rdd** actually, for testing porpuses), and the ROC and Precision-Recall curves are calculated."
   ]
  },
  {
   "cell_type": "code",
   "execution_count": 11,
   "metadata": {
    "scrolled": false
   },
   "outputs": [
    {
     "name": "stdout",
     "output_type": "stream",
     "text": [
      "It.    0\t|\tLoss: 0.6931\t|\tTime: 0.57 s\n",
      "It.   20\t|\tLoss: 0.2189\t|\tTime: 5.59 s\n",
      "It.   40\t|\tLoss: 0.2148\t|\tTime: 9.70 s\n",
      "It.   60\t|\tLoss: 0.2132\t|\tTime: 13.69 s\n",
      "It.   80\t|\tLoss: 0.2124\t|\tTime: 17.72 s\n",
      "It.  100\t|\tLoss: 0.2119\t|\tTime: 21.42 s\n",
      "\n",
      "Total time: 21.42 s\n",
      "Iters frequency: 4.67 Hz\n",
      "\n"
     ]
    },
    {
     "data": {
      "image/png": "[encoded data removed]",
      "text/plain": [
       "<Figure size 432x288 with 1 Axes>"
      ]
     },
     "metadata": {},
     "output_type": "display_data"
    },
    {
     "name": "stdout",
     "output_type": "stream",
     "text": [
      "{'Confusion Matrix': {'tp': 1604, 'fn': 209, 'fp': 126, 'tn': 2662}, 'Accuracy': 0.9271897413605737, 'Precision': 0.9271676300577498, 'Recall': 0.8847214561499788, 'Specificity': 0.9548063127689758, 'F1-Score': 0.9054473609434845}\n",
      "\n",
      "Calculating ROC and PR curves...\n",
      "Number of points: 10\n"
     ]
    },
    {
     "data": {
      "image/png": "[encoded data removed]",
      "text/plain": [
       "<Figure size 432x288 with 1 Axes>"
      ]
     },
     "metadata": {},
     "output_type": "display_data"
    },
    {
     "data": {
      "image/png": "[encoded data removed]",
      "text/plain": [
       "<Figure size 432x288 with 1 Axes>"
      ]
     },
     "metadata": {},
     "output_type": "display_data"
    }
   ],
   "source": [
    "b, w, _ = train(rdd,\n",
    "                iterations=100,\n",
    "                learning_rate=10,\n",
    "                lambda_reg=0.1,\n",
    "                plot_loss=True\n",
    "               )\n",
    "\n",
    "print(evaluate(rdd, b, w, threshold=0.5))\n",
    "\n",
    "calc_curves(rdd, b, w, points=10)"
   ]
  },
  {
   "cell_type": "markdown",
   "metadata": {},
   "source": [
    "### Cross-Validation\n",
    "The traditional cross-validation technique is here implemented, with some tweakings to exploit the Spark parallelisation.  \n",
    "* `transform_c_v()` transforms the RDD to allow the cross-validation split: each record is randomly assigned to one fold (which range depends on the **folds** number chosen) by adding a label assigned by the `randrange()` functions;  \n",
    "* `get_block_data()` takes the original train RDD and splits it in **rdd_train** and **rdd_test** according to the labels of each element and the training fold extracted **fold_train**;"
   ]
  },
  {
   "cell_type": "code",
   "execution_count": 12,
   "metadata": {},
   "outputs": [],
   "source": [
    "def transform_cv(rdd, folds):\n",
    "    random.seed()\n",
    "    rdd_cv = rdd.map(\n",
    "        lambda x: (\n",
    "            x[0],\n",
    "            x[1],\n",
    "            randrange(folds)\n",
    "        )\n",
    "    )\n",
    "    return rdd_cv\n",
    "\n",
    "\n",
    "def get_block_data(rdd, fold_train):\n",
    "    rdd_train = rdd.filter(\n",
    "        lambda x:\n",
    "            x[2] != fold_train\n",
    "    ).map(\n",
    "        lambda x: (\n",
    "            x[0],\n",
    "            x[1]\n",
    "        )\n",
    "    )\n",
    "    \n",
    "    rdd_test = rdd.filter(\n",
    "        lambda x:\n",
    "            x[2] == fold_train\n",
    "    ).map(\n",
    "        lambda x: (\n",
    "            x[0],\n",
    "            x[1]\n",
    "        )\n",
    "    )\n",
    "    return rdd_train, rdd_test"
   ]
  },
  {
   "cell_type": "markdown",
   "metadata": {},
   "source": [
    "The proper cross-validation process is here executed: given an RDD and a number of folds **folds** in which to split the dataset (and the usual `train()` parameters, to pass to that function when called), it iterates the training and testing phases selecting each time the proper **rdd_test** and **rdd_train** split, according to the appropriate training fold **fold** selected.  \n",
    "\n",
    "The accuracy of the trained model (obtained using the previously seen evaluating functions) is recorded for each fold iteration and then finally averaged in **average_accuracy**.  \n",
    "The implementation also provides additional information about the time elapsed and the fold or training iteration frequency in the computation: these information can be displayed or not by acting on the **verbose** and **verbose_train** flags (respectively regarding information about the cross-validation process and the specific training iterations)."
   ]
  },
  {
   "cell_type": "code",
   "execution_count": 13,
   "metadata": {},
   "outputs": [],
   "source": [
    "def cross_validation(rdd, folds=10, iterations=100, learning_rate=10, \n",
    "                     lambda_reg=0.1, threshold=0.5,\n",
    "                     verbose=True, verbose_train=False):\n",
    "    if folds < 2:\n",
    "        raise ValueError('Invalid number of folds: must be > 1!')\n",
    "        \n",
    "    start_time = time.time()\n",
    "        \n",
    "    total_accuracy = 0\n",
    "    rdd_cv = transform_cv(rdd, folds)\n",
    "\n",
    "    for fold in range(folds):\n",
    "        rdd_train, rdd_test = get_block_data(rdd_cv, fold)\n",
    "        \n",
    "        if verbose:\n",
    "            tot_train = rdd_train.count()\n",
    "            tot_test = rdd_test.count()\n",
    "            perc_test = tot_test / (tot_test + tot_train) * 100\n",
    "            print('Fold %2d of %2d\\t|\\t%4d test - %0.1f%%' % \n",
    "                  (fold + 1, folds, tot_test, perc_test), end='')\n",
    "        \n",
    "        b, w, _ = train(\n",
    "            rdd_train,\n",
    "            iterations=iterations,\n",
    "            lambda_reg=lambda_reg,\n",
    "            verbose=verbose_train\n",
    "        )\n",
    "        \n",
    "        results = evaluate(rdd_test, b, w, threshold=threshold)\n",
    "        accuracy = results['Accuracy']\n",
    "        total_accuracy += accuracy\n",
    "        if verbose:\n",
    "            print('\\t|\\tAccuracy: %0.4f' % accuracy)\n",
    "\n",
    "    average_accuracy = total_accuracy / folds\n",
    "    total_time = time.time() - start_time\n",
    "    if verbose:\n",
    "        print('\\nIters: %d' % \n",
    "              (iterations))\n",
    "        print('Total time: %0.2f s\\t|\\tAverage accuracy: %0.4f' % \n",
    "              (total_time, average_accuracy))\n",
    "        print('Fold frequency: %0.2f Hz' % (folds / total_time))    \n",
    "        print('Iters frequency: %0.2f Hz' % (folds * iterations / total_time))\n",
    "          \n",
    "    return average_accuracy, total_time"
   ]
  },
  {
   "cell_type": "markdown",
   "metadata": {},
   "source": [
    "Here the cross-validation function is tested."
   ]
  },
  {
   "cell_type": "code",
   "execution_count": 15,
   "metadata": {},
   "outputs": [
    {
     "name": "stdout",
     "output_type": "stream",
     "text": [
      "Fold  1 of  2\t|\t2275 test - 49.4%\t|\tAccuracy: 0.9240\n",
      "Fold  2 of  2\t|\t2326 test - 50.6%\t|\tAccuracy: 0.9209\n",
      "\n",
      "Iters: 100\n",
      "Total time: 36.05 s\t|\tAverage accuracy: 0.9224\n",
      "Fold frequency: 0.06 Hz\n",
      "Iters frequency: 5.55 Hz\n"
     ]
    }
   ],
   "source": [
    "avg_acc, tot_time = cross_validation(\n",
    "    rdd, \n",
    "    folds=10, \n",
    "    iterations=100, \n",
    "    learning_rate=10, \n",
    "    lambda_reg=0.1, \n",
    "    threshold=0.5,\n",
    "    verbose_train=False\n",
    ")"
   ]
  },
  {
   "cell_type": "markdown",
   "metadata": {},
   "source": [
    "### Performance and Speed Up Curves\n",
    "The main code below re-runs multiple times the training or the cross-validation process, recording the time required with a different number of workers assigned, while maintaining a total of 8 partitions in the **rdd**.\n",
    "* `n_folds` is the number of folds for k-fold cross-validation;  \n",
    "* `iterations` is the nuber of iterations to do in the draining phase;  \n",
    "* `boost_size` is the factor used to increase the size of the rdd, if wanted;  \n",
    "* `exec_train` discriminates whether to execute the `train()` function or the `cross_validation()` one.  \n",
    "\n",
    "For the different number of workers (from 1 to **N_WORKERS**) the *Spark* context is re-initialised, the file is read, in case boosted and then standardised. Afterwards, the selected function is executed, and the time required by it is locally stored in **time_list**."
   ]
  },
  {
   "cell_type": "code",
   "execution_count": 16,
   "metadata": {
    "scrolled": true
   },
   "outputs": [
    {
     "name": "stdout",
     "output_type": "stream",
     "text": [
      "Evaluating train\t\t|\tIters: 10\t|\t Boost: 1x\n",
      "Starting with 1 worker(s)\t|\tFinished in 1.61 s\n",
      "Starting with 2 worker(s)\t|\tFinished in 1.07 s\n",
      "Starting with 3 worker(s)\t|\tFinished in 1.05 s\n",
      "Starting with 4 worker(s)\t|\tFinished in 1.10 s\n",
      "Starting with 5 worker(s)\t|\tFinished in 1.16 s\n",
      "Starting with 6 worker(s)\t|\tFinished in 1.12 s\n",
      "Starting with 7 worker(s)\t|\tFinished in 1.19 s\n",
      "Starting with 8 worker(s)\t|\tFinished in 1.09 s\n",
      "Ended.\n"
     ]
    }
   ],
   "source": [
    "worker_list = range(1, N_WORKERS + 1)\n",
    "time_list = []\n",
    "\n",
    "n_folds = 5\n",
    "iterations = 100\n",
    "\n",
    "# factor to which multiply the rdd size\n",
    "boost_size = 100\n",
    "\n",
    "# True -> execute 'train', with assigned number of iterations\n",
    "# False -> execute 'cross-validation', for n_folds and interations\n",
    "exec_train = True\n",
    "\n",
    "print('Evaluating %s\\t\\t|\\tIters: %d\\t|\\t Boost: %dx' % \n",
    "      (('train' if exec_train else 'cross-val'), iterations, boost_size))\n",
    "\n",
    "for workers in worker_list:\n",
    "    if 'sc' in locals():\n",
    "        sc.stop()\n",
    "    sc = pyspark.SparkContext('local[' + str(workers) + ']')\n",
    "    print('Starting with %d worker(s)' % workers, end ='')\n",
    "\n",
    "    rdd = read_file(FILE_PATH)\n",
    "    rdd = rdd.sample(True, boost_size)\n",
    "    rdd = standardise(rdd)\n",
    "    \n",
    "    if exec_train:\n",
    "        _, _, tmp_time = train(\n",
    "            rdd,\n",
    "            iterations=iterations,\n",
    "            verbose=False\n",
    "        )\n",
    "    else:\n",
    "        _, tmp_time = cross_validation(\n",
    "            rdd,\n",
    "            folds=n_folds, \n",
    "            iterations=iterations,\n",
    "            verbose=False,\n",
    "            verbose_train=False\n",
    "        )\n",
    "    \n",
    "    time_list.append(tmp_time)\n",
    "    print('\\t|\\tFinished in %0.2f s' % tmp_time)\n",
    "print('Ended.')"
   ]
  },
  {
   "cell_type": "markdown",
   "metadata": {},
   "source": [
    "This functions plots and eventually saves the performance curve, given the **time_list** previously obtained.\n",
    "\n",
    "The function is then executed."
   ]
  },
  {
   "cell_type": "code",
   "execution_count": 17,
   "metadata": {},
   "outputs": [],
   "source": [
    "def performance_curve(time_array, n_init, save=False):\n",
    "    x_axis = range(1, N_WORKERS + 1)\n",
    "\n",
    "    plt.style.use('seaborn-darkgrid')\n",
    "    plt.plot(x_axis, time_array, linewidth=2, color='b')\n",
    "    plt.gcf().subplots_adjust(bottom=0.1)\n",
    "    plt.title('Performance Curve')\n",
    "    plt.xlabel('Workers')\n",
    "    plt.ylabel('Time (s)')\n",
    "    \n",
    "    if save:\n",
    "        name = 'lol'\n",
    "        plt.savefig(OUT_PATH + str(iterations)  + 'it__' + name + IMG_FORMAT)\n",
    "    plt.show()"
   ]
  },
  {
   "cell_type": "code",
   "execution_count": 18,
   "metadata": {},
   "outputs": [
    {
     "data": {
      "image/png": "[encoded data removed]",
      "text/plain": [
       "<Figure size 432x288 with 1 Axes>"
      ]
     },
     "metadata": {},
     "output_type": "display_data"
    }
   ],
   "source": [
    "performance_curve(time_list, \n",
    "                  n_folds\n",
    "                 )"
   ]
  },
  {
   "cell_type": "markdown",
   "metadata": {},
   "source": [
    "This functions plots and eventually saves the speed up curve, given the **time_list** previously obtained.  \n",
    "\n",
    "The function in then executed."
   ]
  },
  {
   "cell_type": "code",
   "execution_count": 19,
   "metadata": {},
   "outputs": [],
   "source": [
    "def speed_up_curve(time_array, n_init, save=False):\n",
    "    t = [time_array[0]/x for x in time_array]\n",
    "    x_axis = range(1, N_WORKERS + 1)\n",
    "\n",
    "    plt.style.use('seaborn-darkgrid')\n",
    "    plt.plot(x_axis, t, linewidth=2, color='b')\n",
    "    plt.gcf().subplots_adjust(bottom=0.1)\n",
    "    plt.title('Speed Up Curve')\n",
    "    plt.xlabel('Workers')\n",
    "    plt.ylabel('Time ratio')\n",
    "    \n",
    "    if save:\n",
    "        name = 'lols'\n",
    "        plt.savefig(OUT_PATH + str(iterations)  + 'it__' + name + IMG_FORMAT)\n",
    "    plt.show()"
   ]
  },
  {
   "cell_type": "code",
   "execution_count": 20,
   "metadata": {},
   "outputs": [
    {
     "data": {
      "image/png": "[encoded data removed]",
      "text/plain": [
       "<Figure size 432x288 with 1 Axes>"
      ]
     },
     "metadata": {},
     "output_type": "display_data"
    }
   ],
   "source": [
    "speed_up_curve(time_list, \n",
    "               n_folds\n",
    "              )"
   ]
  },
  {
   "cell_type": "markdown",
   "metadata": {},
   "source": [
    "End."
   ]
  }
 ],
 "metadata": {
  "kernelspec": {
   "display_name": "Python 3",
   "language": "python",
   "name": "python3"
  },
  "language_info": {
   "codemirror_mode": {
    "name": "ipython",
    "version": 3
   },
   "file_extension": ".py",
   "mimetype": "text/x-python",
   "name": "python",
   "nbconvert_exporter": "python",
   "pygments_lexer": "ipython3",
   "version": "3.7.4"
  }
 },
 "nbformat": 4,
 "nbformat_minor": 2
}
