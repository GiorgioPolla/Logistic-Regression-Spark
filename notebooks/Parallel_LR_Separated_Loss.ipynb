{
 "cells": [
  {
   "cell_type": "markdown",
   "metadata": {},
   "source": [
    "# Parallel Logistic Regression Classifier on Spark\n",
    "\n",
    "Author: **Giorgio Polla**  \n",
    "Date: **27/11/2019**  \n",
    "\n",
    "Implementation of a Logistic Regression classifier on Spark, with Python.  \n",
    "The algorithm is tested using cross-validation on the _Spam_ dataset available at https://web.stanford.edu/~hastie/ElemStatLearn/data.html.\n"
   ]
  },
  {
   "cell_type": "markdown",
   "metadata": {},
   "source": [
    "### Libraries and constants\n",
    "\n",
    "Import of the following libraries:  \n",
    "* `pyspark` to utilize *Spark*;  \n",
    "* `time` to track the time performance of the implementation;  \n",
    "* `numpy` to easily operate with number arrays;  \n",
    "* `random` to provide the random functionalities used in the cross-validation dataset split;  \n",
    "* `matplotlib` to plot graphs;  \n",
    "* `sklearn` to easily compute some evaluation metrics.  \n",
    "\n",
    "Moreover, some operative constants used in the following are defined, and finally the Spark context is intialised."
   ]
  },
  {
   "cell_type": "code",
   "execution_count": 12,
   "metadata": {},
   "outputs": [],
   "source": [
    "import pyspark\n",
    "import time\n",
    "import math\n",
    "import numpy as np\n",
    "import random\n",
    "import matplotlib.pyplot as plt\n",
    "from random import randrange\n",
    "from scipy.interpolate import make_interp_spline\n",
    "from sklearn.metrics import roc_curve, auc, precision_recall_curve, average_precision_score\n",
    "\n",
    "FILE_PATH = '../data/spam.txt'\n",
    "OUT_PATH = '../out/'\n",
    "IMG_FORMAT = 'png'\n",
    "N_WORKERS = 8\n",
    "EPSILON = 1e-10"
   ]
  },
  {
   "cell_type": "code",
   "execution_count": 4,
   "metadata": {},
   "outputs": [
    {
     "name": "stdout",
     "output_type": "stream",
     "text": [
      "Initialise Spark Context\n"
     ]
    }
   ],
   "source": [
    "if 'sc' in locals():\n",
    "    print('Restart Spark Context')\n",
    "    sc.stop()\n",
    "else:\n",
    "    print('Initialise Spark Context')\n",
    "    \n",
    "# conf = SparkConf().setAppName(\"lol\").setMaster(\"local[8]\")\n",
    "# conf.set('spark.scheduler.mode', 'FAIR')\n",
    "# conf.set('spark.dynamicAllocation.enabled', 'true')\n",
    "# conf.set('spark.shuffle.service.enabled', 'true')\n",
    "# sc = SparkContext(conf=conf) \n",
    "\n",
    "sc = pyspark.SparkContext('local[' + str(N_WORKERS) + ']')"
   ]
  },
  {
   "cell_type": "markdown",
   "metadata": {},
   "source": [
    "### File reading\n",
    "The spam dataset is loaded as an RDD, using the `textFile()` function.  \n",
    "The RDD is then manipulated in order to have each record as a tuple **(X, y)** , where:  \n",
    "**X** is an array containing the features of the example (57 float numbers);  \n",
    "**y** is an integer containing the label of the example (0 or 1).  \n",
    "\n",
    "The result is then quickly tested."
   ]
  },
  {
   "cell_type": "code",
   "execution_count": 5,
   "metadata": {},
   "outputs": [],
   "source": [
    "def read_file(file_path, n_workers=N_WORKERS):\n",
    "    rdd = sc.textFile(file_path, n_workers)\n",
    "    \n",
    "    rdd = rdd.map(\n",
    "        lambda x: (\n",
    "            np.array([float(el) for el in x[:-1].split()]),\n",
    "            int(x[-1])\n",
    "        )\n",
    "    )\n",
    "    \n",
    "    return rdd"
   ]
  },
  {
   "cell_type": "code",
   "execution_count": 6,
   "metadata": {},
   "outputs": [
    {
     "data": {
      "text/plain": [
       "278.0"
      ]
     },
     "execution_count": 6,
     "metadata": {},
     "output_type": "execute_result"
    }
   ],
   "source": [
    "rdd = read_file(FILE_PATH)\n",
    "rdd.take(1)[0][0][56] # test -> 278.0"
   ]
  },
  {
   "cell_type": "markdown",
   "metadata": {},
   "source": [
    "### Standardisation\n",
    "Each row of the RDD is standardised; this is done by first obtaining the mean for each column, then obtaining the standard deviation for them, and finally applying the standardisation formula.  \n",
    "\n",
    "The result is then again quickly tested."
   ]
  },
  {
   "cell_type": "code",
   "execution_count": 7,
   "metadata": {},
   "outputs": [],
   "source": [
    "def standardise(rdd):    \n",
    "    n_rows = rdd.count()\n",
    "    \n",
    "    col_sum = rdd.map(\n",
    "        lambda x:\n",
    "            x[0]\n",
    "    ).reduce(\n",
    "        lambda x, y:\n",
    "            x + y\n",
    "    )\n",
    "    mean = col_sum / n_rows\n",
    "    \n",
    "    variance = rdd.map(\n",
    "        lambda x: np.square(x[0] - mean)\n",
    "    ).reduce(\n",
    "        lambda x, y:\n",
    "            x + y\n",
    "    )\n",
    "    std_dev = np.sqrt(variance / n_rows)\n",
    "    \n",
    "    rdd = rdd.map(\n",
    "        lambda x: (\n",
    "            (x[0] - mean) /  std_dev,\n",
    "            x[1]\n",
    "        )\n",
    "    )\n",
    "    \n",
    "    return rdd"
   ]
  },
  {
   "cell_type": "code",
   "execution_count": 8,
   "metadata": {},
   "outputs": [
    {
     "data": {
      "text/plain": [
       "-0.008724133882501232"
      ]
     },
     "execution_count": 8,
     "metadata": {},
     "output_type": "execute_result"
    }
   ],
   "source": [
    "rdd = standardise(rdd)\n",
    "rdd.first()[0][56] # test -> -0.008724"
   ]
  },
  {
   "cell_type": "markdown",
   "metadata": {},
   "source": [
    "### Training\n",
    "The training phase follows the typical Logistic Regression fashion, with some adjustments to exploit the Spark parallelisation.  \n",
    "It is worth noting that the notation is consistent, and in particular:  \n",
    "* **rdd** is an RDD containing the records on which to train the model;\n",
    "* **x** is a data point feature array (57 float numbers);  \n",
    "* **y** is a data point label (integer, either 0 or 1);  \n",
    "* **b** is the regression bias term (float number);  \n",
    "* **w** is the regression weights array (57 float numbers);  \n",
    "* **p** is the predicted class probability for of data point (float number between 0 and 1);\n",
    "\n",
    "In the first section there are the support functions for the proper training phase.  \n",
    "* `sigmoid()` simply represents the Sigmoid function;  \n",
    "* `predict_probability()` calculates and returns the predicted class probability **y** for each record, exploting the `sigmoid()` function;  \n",
    "* `cross_entropy()` is the Cross Entropy function, utilised to obtain the training error of the model;  \n",
    "* `gradient()` calculates the gradient for the bias term (**gradient_b**),  the gradient for the weights, in a single array (**gradient_w**), and the sum of the cross entropy error for each record."
   ]
  },
  {
   "cell_type": "code",
   "execution_count": 15,
   "metadata": {},
   "outputs": [],
   "source": [
    "def sigmoid(z):\n",
    "    return 1 / (1 + np.exp(-z))\n",
    "\n",
    "\n",
    "def predict_probability(x, b, w):\n",
    "    z = np.dot(x, w) + b\n",
    "    return sigmoid(z)\n",
    "\n",
    "\n",
    "def cross_entropy(x, y, b, w):\n",
    "    p = predict_probability(x, b, w)\n",
    "    \n",
    "    if y == 1:\n",
    "        error_loss = -np.log(p + EPSILON)\n",
    "    else:\n",
    "        error_loss = -np.log(1 - p + EPSILON)\n",
    "    \n",
    "    return error_loss\n",
    "\n",
    "\n",
    "def g_help(x, y, b, w):\n",
    "    p = predict_probability(x, b, w)\n",
    "    \n",
    "    b_part = p - y\n",
    "    g_part = b_part * x\n",
    "    \n",
    "    return b_part, g_part\n",
    "\n",
    "\n",
    "def gradient(rdd, b, w):\n",
    "    gradient_b, gradient_w = rdd.map(\n",
    "        lambda x: \n",
    "            g_help(x[0], x[1], b, w)\n",
    "    ).reduce(\n",
    "        lambda x, y: (\n",
    "            x[0] + y[0],\n",
    "            x[1] + y[1]\n",
    "        )\n",
    "    )\n",
    "    \n",
    "    return gradient_b, gradient_w\n",
    "\n",
    "\n",
    "def train_loss(rdd, b, w):\n",
    "    err_loss = rdd.map(\n",
    "        lambda x: \n",
    "            cross_entropy(x[0], x[1], b, w)\n",
    "    ).sum()\n",
    "    \n",
    "    return err_loss"
   ]
  },
  {
   "cell_type": "code",
   "execution_count": 19,
   "metadata": {},
   "outputs": [
    {
     "name": "stdout",
     "output_type": "stream",
     "text": [
      "\n",
      "Total time: 12.69 s\n",
      "Iters frequency: 7.88 Hz\n",
      "\n"
     ]
    },
    {
     "ename": "NameError",
     "evalue": "name 'evaluate' is not defined",
     "output_type": "error",
     "traceback": [
      "\u001b[0;31m---------------------------------------------------------------------------\u001b[0m",
      "\u001b[0;31mNameError\u001b[0m                                 Traceback (most recent call last)",
      "\u001b[0;32m<ipython-input-19-05623d03dae2>\u001b[0m in \u001b[0;36m<module>\u001b[0;34m\u001b[0m\n\u001b[1;32m      6\u001b[0m                   )\n\u001b[1;32m      7\u001b[0m \u001b[0;34m\u001b[0m\u001b[0m\n\u001b[0;32m----> 8\u001b[0;31m \u001b[0ma\u001b[0m \u001b[0;34m=\u001b[0m \u001b[0mevaluate\u001b[0m\u001b[0;34m(\u001b[0m\u001b[0mrdd\u001b[0m\u001b[0;34m,\u001b[0m \u001b[0mb\u001b[0m\u001b[0;34m,\u001b[0m \u001b[0mw\u001b[0m\u001b[0;34m,\u001b[0m \u001b[0mplot\u001b[0m\u001b[0;34m=\u001b[0m\u001b[0;32mFalse\u001b[0m\u001b[0;34m)\u001b[0m\u001b[0;34m[\u001b[0m\u001b[0;34m'Accuracy'\u001b[0m\u001b[0;34m]\u001b[0m\u001b[0;34m\u001b[0m\u001b[0;34m\u001b[0m\u001b[0m\n\u001b[0m\u001b[1;32m      9\u001b[0m \u001b[0ma\u001b[0m\u001b[0;34m\u001b[0m\u001b[0;34m\u001b[0m\u001b[0m\n",
      "\u001b[0;31mNameError\u001b[0m: name 'evaluate' is not defined"
     ]
    }
   ],
   "source": [
    "b, w, _, _ = train(rdd,\n",
    "                   iterations=100,\n",
    "                   learning_rate=10,\n",
    "                   lambda_reg=1,\n",
    "                   verbose=False\n",
    "                  )\n",
    "\n",
    "a = evaluate(rdd, b, w, plot=False)['Accuracy']\n",
    "a"
   ]
  },
  {
   "cell_type": "markdown",
   "metadata": {},
   "source": [
    "The train function considerds the additional parameters:  \n",
    "* **iterations**, the number of iterations to repeat in the training phase;\n",
    "* **learning_rate**, the learing rate in the training phase;\n",
    "* **lambda_reg**, the regularization parameter lambda, used to control the Ridge-like regularization adopted;\n",
    "* **verbose**, controlling whether or not to stamp additional information.  \n",
    "\n",
    "The training phase proceeds inside the main iteration loop by calculating each time the gradient for the bias **b** and the weights **w**, applying the gradient descent technique with appropriate regularization, and recording the total loss (cross-entropy loss **err_loss** plus regularization loss **reg_loss**).  \n",
    "At the end of the training phase the function returns the trained bias and weights, as well as the array **loss_history** containing the records of the total loss during the whole process."
   ]
  },
  {
   "cell_type": "code",
   "execution_count": 17,
   "metadata": {},
   "outputs": [],
   "source": [
    "def train(rdd, iterations=10, learning_rate=10, \n",
    "          lambda_reg=0.1, verbose=True):\n",
    "    start_time = time.time()\n",
    "    n_rows = rdd.count()\n",
    "    n_features = len(rdd.first()[0])\n",
    "    b = 0\n",
    "    w = np.zeros(n_features)\n",
    "    alpha = learning_rate / n_rows\n",
    "    frac = np.floor(iterations / 10)\n",
    "    \n",
    "    loss_history = []\n",
    "    \n",
    "    for it in range(iterations):\n",
    "        gradient_b, gradient_w = gradient(rdd, b, w)\n",
    "        regularization = lambda_reg * w\n",
    "        \n",
    "        b -= alpha * gradient_b\n",
    "        w -= alpha * (gradient_w + regularization)\n",
    "        \n",
    "        if it % frac == 0:\n",
    "            err_loss = train_loss(rdd, b, w)\n",
    "            reg_loss = lambda_reg * np.sum(np.square(w)) / 2\n",
    "            total_loss = (err_loss + reg_loss) / n_rows\n",
    "            loss_history.append(total_loss)\n",
    "            \n",
    "            if verbose:\n",
    "                print(\"It. %4d\\t|\\tLoss: %0.4f\\t|\\tTime: %0.2f s\" %\n",
    "                      (it, total_loss, (time.time() - start_time)))\n",
    "            \n",
    "    total_time = time.time() - start_time\n",
    "    print('\\nTotal time: %0.2f s\\nIters frequency: %0.2f Hz' % \n",
    "              (total_time, iterations / total_time))\n",
    "    print()\n",
    "    return b, w, loss_history, total_time"
   ]
  },
  {
   "cell_type": "markdown",
   "metadata": {},
   "source": [
    "### Performance Evaluation\n",
    "The evaluation is entirely managed by the follwing two functions, following the usual parameter naming conventions.  \n",
    "* `classify()` is a support function that returns wether a data point has been classified as a _True Positve_ (**tp**), a _True Negative_ (**tn**), a _False Negative_ (**fn**) or a _False Positve_ (**fp**);  \n",
    "* `evaluate()` computes the traditional evaluation metric for classification, and in particular the **Accuracy**, **Precision**, **Recall**, **Specificity**, **F1-Score**, final **Cost Error**, area under the ROC curve (**AUC**) and precision-recall score (**P-R Score**), and returns them packed in a dictionary. If the parameter **plot** is positively flagged, the two plots of the ROC and precision-recall curves are displayed."
   ]
  },
  {
   "cell_type": "code",
   "execution_count": 15,
   "metadata": {},
   "outputs": [],
   "source": [
    "def classify(p, y, threshold=0.5):\n",
    "    if (p >= threshold) == y:\n",
    "        return 'tp' if y==1 else 'tn'\n",
    "    else:\n",
    "        return 'fn' if y==1 else 'fp'\n",
    "            \n",
    "        \n",
    "def evaluate(rdd, b, w, loss_history=[None], plot=True):\n",
    "    \n",
    "    rdd_pred = rdd.map(\n",
    "        lambda x: (\n",
    "            predict_probability(x[0], b, w),\n",
    "            x[1]\n",
    "        )\n",
    "    )\n",
    "    \n",
    "    predictions = rdd_pred.map(\n",
    "        lambda x:\n",
    "            x[0]\n",
    "    ).collect()\n",
    "    \n",
    "    corrects = rdd_pred.map(\n",
    "        lambda x:\n",
    "            x[1]\n",
    "    ).collect()\n",
    "    \n",
    "    c_m = rdd_pred.map(\n",
    "        lambda x: (\n",
    "            classify(x[0], x[1]),\n",
    "            1\n",
    "        )\n",
    "    ).reduceByKey(\n",
    "        lambda x, y:\n",
    "            x+y\n",
    "    )\n",
    "    c_m = dict(c_m.collect())\n",
    "    \n",
    "    roc1, roc2, _ = roc_curve(corrects, predictions)\n",
    "    \n",
    "    results = {}\n",
    "    \n",
    "    results['Confusion Matrix'] = c_m\n",
    "    \n",
    "    results['Accuracy'] = (c_m['tp'] + c_m['tn']) \\\n",
    "        / (c_m['tp'] + c_m['tn'] + c_m['fp'] + c_m['fn'])\n",
    "    \n",
    "    results['Precision'] = c_m['tp'] / (c_m['tp'] + c_m['fp'])\n",
    "    \n",
    "    results['Recall'] = c_m['tp'] / (c_m['tp'] + c_m['fn'])\n",
    "    \n",
    "    results['Specificity'] = c_m['tn'] / (c_m['tn'] + c_m['fp'])\n",
    "    \n",
    "    results['F1-Score'] = 2 * results['Precision'] * results['Recall'] \\\n",
    "        / (results['Precision'] + results['Recall'])\n",
    "    \n",
    "    results['Cost Error'] = loss_history[-1]\n",
    "    \n",
    "    results['AUC'] = auc(roc1, roc2)\n",
    "    \n",
    "    results['PR-Score'] = average_precision_score(corrects, predictions)\n",
    "    \n",
    "    if plot:\n",
    "        plt.title('ROC Curve')\n",
    "        plt.plot(roc1, roc2, color='darkorange', \n",
    "                 label='ROC curve (area %0.2f)' % results['AUC'])\n",
    "        plt.plot([0, 1], [0, 1], color='navy', linestyle = '--')\n",
    "        plt.legend(loc='lower right')\n",
    "        plt.xlabel('False Positive Rate')\n",
    "        plt.ylabel('True Positive Rate')\n",
    "        plt.show()\n",
    "\n",
    "        pr1, pr2, _ = precision_recall_curve(corrects, predictions)\n",
    "\n",
    "        plt.title('Precision-Recall Curve')\n",
    "        plt.step(pr2, pr1, color='black', alpha=0.2,\n",
    "                 label='PR curve (area %0.2f)' % results['PR-Score'])\n",
    "        plt.fill_between(pr2, pr1, alpha=0.2, color='black')\n",
    "        plt.legend(loc='lower right')\n",
    "        plt.xlabel('Recall')\n",
    "        plt.ylabel('Precision')\n",
    "        plt.show()\n",
    "    \n",
    "    return(results)"
   ]
  },
  {
   "cell_type": "markdown",
   "metadata": {},
   "source": [
    "### Cross-Validation\n",
    "The traditional cross-validation technique is here implemented, with some tweakings to exploit the Spark parallelisation.  \n",
    "* `transform_c_v()` transforms the RDD to allow the cross-validation split: each record is randomly assigned to one fold (which range depends on the **folds** number chosen) by adding a label assigned by the `randrange()` functions;  \n",
    "* `get_block_data()` takes the original train RDD and splits it in **rdd_train** and **rdd_test** according to the labels of each element and the training fold extracted **fold_train**;"
   ]
  },
  {
   "cell_type": "code",
   "execution_count": 16,
   "metadata": {},
   "outputs": [],
   "source": [
    "def transform_cv(rdd, folds):\n",
    "    random.seed()\n",
    "    rdd_cv = rdd.map(\n",
    "        lambda x: (\n",
    "            x[0],\n",
    "            x[1],\n",
    "            randrange(folds)\n",
    "        )\n",
    "    )\n",
    "    return rdd_cv\n",
    "\n",
    "\n",
    "def get_block_data(rdd, fold_train):\n",
    "    rdd_train = rdd.filter(\n",
    "        lambda x:\n",
    "            x[2] != fold_train\n",
    "    ).map(\n",
    "        lambda x: (\n",
    "            x[0],\n",
    "            x[1]\n",
    "        )\n",
    "    )\n",
    "    \n",
    "    rdd_test = rdd.filter(\n",
    "        lambda x:\n",
    "            x[2] == fold_train\n",
    "    ).map(\n",
    "        lambda x: (\n",
    "            x[0],\n",
    "            x[1]\n",
    "        )\n",
    "    )\n",
    "    return rdd_train, rdd_test"
   ]
  },
  {
   "cell_type": "markdown",
   "metadata": {},
   "source": [
    "The proper cross-validation process is here executed: given an RDD and a number of folds **folds** in which to split the dataset (and the usual `train()` parameters, to pass to that function when called), it iterates the training and testing phases selecting each time the proper **rdd_test** and **rdd_train** split, according to the appropriate training fold **fold** selected.  \n",
    "\n",
    "The accuracy of the trained model (obtained using the previously seen evaluating functions) is recorded for each fold iteration and then finally averaged in **average_accuracy**.  \n",
    "The implementation also provides additional information about the time elapsed and the fold or training iteration frequency in the computation: these information can be displayed or not by acting on the **verbose** and **verbose_train** flags (respectively regarding information about the cross-validation process and the specific training iterations)."
   ]
  },
  {
   "cell_type": "code",
   "execution_count": 19,
   "metadata": {
    "scrolled": true
   },
   "outputs": [
    {
     "name": "stdout",
     "output_type": "stream",
     "text": [
      "It.    0\t|\tLoss: 0.6931\t|\tTime: 0.27 s\n",
      "It.   20\t|\tLoss: 0.2189\t|\tTime: 2.68 s\n",
      "It.   40\t|\tLoss: 0.2148\t|\tTime: 5.10 s\n",
      "It.   60\t|\tLoss: 0.2132\t|\tTime: 7.47 s\n",
      "It.   80\t|\tLoss: 0.2124\t|\tTime: 9.88 s\n",
      "\n",
      "Total time: 12.00 s\n",
      "Iters frequency: 8.33 Hz\n",
      "\n"
     ]
    },
    {
     "data": {
      "text/plain": [
       "0.9271897413605737"
      ]
     },
     "execution_count": 19,
     "metadata": {},
     "output_type": "execute_result"
    }
   ],
   "source": [
    "b, w, _, _ = train(rdd,\n",
    "                   iterations=100,\n",
    "                   learning_rate=10,\n",
    "                   lambda_reg=1\n",
    "                  )\n",
    "\n",
    "a = evaluate(rdd, b, w, plot=False)['Accuracy']\n",
    "a"
   ]
  },
  {
   "cell_type": "code",
   "execution_count": 12,
   "metadata": {},
   "outputs": [],
   "source": [
    "def cross_validation(rdd, folds=10, iterations=20,\n",
    "                     learning_rate=10, lambda_reg=0.1,\n",
    "                     verbose=True, verbose_train=False):\n",
    "    start_time = time.time()\n",
    "        \n",
    "    total_accuracy = 0\n",
    "    rdd_cv = transform_cv(rdd, folds)\n",
    "\n",
    "    for fold in range(folds):\n",
    "        rdd_train, rdd_test = get_block_data(rdd_cv, fold)\n",
    "        \n",
    "        if verbose:\n",
    "            tot_train = rdd_train.count()\n",
    "            tot_test = rdd_test.count()\n",
    "            perc_test = tot_test / (tot_test + tot_train) * 100\n",
    "            print('Fold %2d of %2d' % (fold + 1, folds))\n",
    "            print('Train %4d\\tTest %4d\\t|\\t%0.1f %% test' %\n",
    "                  (tot_train, tot_test, perc_test)\n",
    "            )\n",
    "        \n",
    "        b, w, loss_history, _ = train(\n",
    "            rdd_train,\n",
    "            iterations=iterations,\n",
    "            lambda_reg=lambda_reg,\n",
    "            verbose=verbose_train\n",
    "        )\n",
    "        \n",
    "        results = evaluate(rdd_test, b, w, plot=False)\n",
    "        accuracy = results['Accuracy']\n",
    "        total_accuracy += accuracy\n",
    "        if verbose:\n",
    "            print('Accuracy: %0.4f\\n' % accuracy)\n",
    "\n",
    "    average_accuracy = total_accuracy / folds\n",
    "    total_time = time.time() - start_time\n",
    "    if verbose:\n",
    "        print('Average accuracy: %0.4f' % average_accuracy)\n",
    "        print('Total time: %0.2f s\\nFold frequency: %0.2f Hz' % \n",
    "              (total_time, (folds / total_time))\n",
    "        )\n",
    "          \n",
    "    return average_accuracy, total_time"
   ]
  },
  {
   "cell_type": "code",
   "execution_count": 13,
   "metadata": {},
   "outputs": [
    {
     "name": "stdout",
     "output_type": "stream",
     "text": [
      "Fold  1 of 10\n",
      "Train 4102\tTest  499\t|\t10.8 % test\n",
      "\n",
      "Accuracy: 0.9098\n",
      "\n",
      "Fold  2 of 10\n",
      "Train 4122\tTest  479\t|\t10.4 % test\n",
      "\n",
      "Accuracy: 0.9248\n",
      "\n",
      "Fold  3 of 10\n",
      "Train 4227\tTest  374\t|\t8.1 % test\n",
      "\n",
      "Accuracy: 0.9305\n",
      "\n",
      "Fold  4 of 10\n",
      "Train 4155\tTest  446\t|\t9.7 % test\n",
      "\n",
      "Accuracy: 0.9327\n",
      "\n",
      "Fold  5 of 10\n",
      "Train 4120\tTest  481\t|\t10.5 % test\n",
      "\n",
      "Accuracy: 0.9189\n",
      "\n",
      "Fold  6 of 10\n",
      "Train 4101\tTest  500\t|\t10.9 % test\n",
      "\n",
      "Accuracy: 0.9260\n",
      "\n",
      "Fold  7 of 10\n",
      "Train 4197\tTest  404\t|\t8.8 % test\n",
      "\n",
      "Accuracy: 0.9084\n",
      "\n",
      "Fold  8 of 10\n",
      "Train 4121\tTest  480\t|\t10.4 % test\n",
      "\n",
      "Accuracy: 0.9333\n",
      "\n",
      "Fold  9 of 10\n",
      "Train 4154\tTest  447\t|\t9.7 % test\n",
      "\n",
      "Accuracy: 0.9306\n",
      "\n",
      "Fold 10 of 10\n",
      "Train 4110\tTest  491\t|\t10.7 % test\n",
      "\n",
      "Accuracy: 0.9104\n",
      "\n",
      "Average accuracy: 0.9226\n",
      "Total time: 32.28 s\n",
      "Fold frequency: 0.31 Hz\n"
     ]
    }
   ],
   "source": [
    "avg_acc, tot_time = cross_validation(rdd, folds=10, iterations=20, \n",
    "                 learning_rate=10, lambda_reg=0.001,\n",
    "                 verbose_train=False)"
   ]
  },
  {
   "cell_type": "markdown",
   "metadata": {},
   "source": [
    "### Performance and Speed Up Curves\n",
    "The main code below re-runs multiple times the main custering process for a standard of 10 initialisations, recording the time required with a different number of workers assigned, while maintaining a total of 8 partitions in the **rdd**."
   ]
  },
  {
   "cell_type": "code",
   "execution_count": 53,
   "metadata": {
    "scrolled": true
   },
   "outputs": [
    {
     "name": "stdout",
     "output_type": "stream",
     "text": [
      "Starting with 1 worker(s)"
     ]
    },
    {
     "ename": "Py4JJavaError",
     "evalue": "An error occurred while calling None.org.apache.spark.api.java.JavaSparkContext.\n: java.net.BindException: Cannot assign requested address: Service 'sparkDriver' failed after 16 retries (on a random free port)! Consider explicitly setting the appropriate binding address for the service 'sparkDriver' (for example spark.driver.bindAddress for SparkDriver) to the correct binding address.\n\tat sun.nio.ch.Net.bind0(Native Method)\n\tat sun.nio.ch.Net.bind(Net.java:433)\n\tat sun.nio.ch.Net.bind(Net.java:425)\n\tat sun.nio.ch.ServerSocketChannelImpl.bind(ServerSocketChannelImpl.java:223)\n\tat io.netty.channel.socket.nio.NioServerSocketChannel.doBind(NioServerSocketChannel.java:128)\n\tat io.netty.channel.AbstractChannel$AbstractUnsafe.bind(AbstractChannel.java:558)\n\tat io.netty.channel.DefaultChannelPipeline$HeadContext.bind(DefaultChannelPipeline.java:1283)\n\tat io.netty.channel.AbstractChannelHandlerContext.invokeBind(AbstractChannelHandlerContext.java:501)\n\tat io.netty.channel.AbstractChannelHandlerContext.bind(AbstractChannelHandlerContext.java:486)\n\tat io.netty.channel.DefaultChannelPipeline.bind(DefaultChannelPipeline.java:989)\n\tat io.netty.channel.AbstractChannel.bind(AbstractChannel.java:254)\n\tat io.netty.bootstrap.AbstractBootstrap$2.run(AbstractBootstrap.java:364)\n\tat io.netty.util.concurrent.AbstractEventExecutor.safeExecute(AbstractEventExecutor.java:163)\n\tat io.netty.util.concurrent.SingleThreadEventExecutor.runAllTasks(SingleThreadEventExecutor.java:403)\n\tat io.netty.channel.nio.NioEventLoop.run(NioEventLoop.java:463)\n\tat io.netty.util.concurrent.SingleThreadEventExecutor$5.run(SingleThreadEventExecutor.java:858)\n\tat io.netty.util.concurrent.DefaultThreadFactory$DefaultRunnableDecorator.run(DefaultThreadFactory.java:138)\n\tat java.lang.Thread.run(Thread.java:748)\n",
     "output_type": "error",
     "traceback": [
      "\u001b[0;31m---------------------------------------------------------------------------\u001b[0m",
      "\u001b[0;31mPy4JJavaError\u001b[0m                             Traceback (most recent call last)",
      "\u001b[0;32m<ipython-input-53-a0e5646733e4>\u001b[0m in \u001b[0;36m<module>\u001b[0;34m\u001b[0m\n\u001b[1;32m      7\u001b[0m     \u001b[0;32mif\u001b[0m \u001b[0;34m'sc'\u001b[0m \u001b[0;32min\u001b[0m \u001b[0mlocals\u001b[0m\u001b[0;34m(\u001b[0m\u001b[0;34m)\u001b[0m\u001b[0;34m:\u001b[0m\u001b[0;34m\u001b[0m\u001b[0;34m\u001b[0m\u001b[0m\n\u001b[1;32m      8\u001b[0m         \u001b[0msc\u001b[0m\u001b[0;34m.\u001b[0m\u001b[0mstop\u001b[0m\u001b[0;34m(\u001b[0m\u001b[0;34m)\u001b[0m\u001b[0;34m\u001b[0m\u001b[0;34m\u001b[0m\u001b[0m\n\u001b[0;32m----> 9\u001b[0;31m     \u001b[0msc\u001b[0m \u001b[0;34m=\u001b[0m \u001b[0mpyspark\u001b[0m\u001b[0;34m.\u001b[0m\u001b[0mSparkContext\u001b[0m\u001b[0;34m(\u001b[0m\u001b[0;34m'local['\u001b[0m \u001b[0;34m+\u001b[0m \u001b[0mstr\u001b[0m\u001b[0;34m(\u001b[0m\u001b[0mworkers\u001b[0m\u001b[0;34m)\u001b[0m \u001b[0;34m+\u001b[0m \u001b[0;34m']'\u001b[0m\u001b[0;34m)\u001b[0m\u001b[0;34m\u001b[0m\u001b[0;34m\u001b[0m\u001b[0m\n\u001b[0m\u001b[1;32m     10\u001b[0m \u001b[0;34m\u001b[0m\u001b[0m\n\u001b[1;32m     11\u001b[0m     \u001b[0mrdd\u001b[0m \u001b[0;34m=\u001b[0m \u001b[0mread_file\u001b[0m\u001b[0;34m(\u001b[0m\u001b[0mFILE_PATH\u001b[0m\u001b[0;34m)\u001b[0m\u001b[0;34m\u001b[0m\u001b[0;34m\u001b[0m\u001b[0m\n",
      "\u001b[0;32m~/anaconda3/lib/python3.7/site-packages/pyspark/context.py\u001b[0m in \u001b[0;36m__init__\u001b[0;34m(self, master, appName, sparkHome, pyFiles, environment, batchSize, serializer, conf, gateway, jsc, profiler_cls)\u001b[0m\n\u001b[1;32m    134\u001b[0m         \u001b[0;32mtry\u001b[0m\u001b[0;34m:\u001b[0m\u001b[0;34m\u001b[0m\u001b[0;34m\u001b[0m\u001b[0m\n\u001b[1;32m    135\u001b[0m             self._do_init(master, appName, sparkHome, pyFiles, environment, batchSize, serializer,\n\u001b[0;32m--> 136\u001b[0;31m                           conf, jsc, profiler_cls)\n\u001b[0m\u001b[1;32m    137\u001b[0m         \u001b[0;32mexcept\u001b[0m\u001b[0;34m:\u001b[0m\u001b[0;34m\u001b[0m\u001b[0;34m\u001b[0m\u001b[0m\n\u001b[1;32m    138\u001b[0m             \u001b[0;31m# If an error occurs, clean up in order to allow future SparkContext creation:\u001b[0m\u001b[0;34m\u001b[0m\u001b[0;34m\u001b[0m\u001b[0;34m\u001b[0m\u001b[0m\n",
      "\u001b[0;32m~/anaconda3/lib/python3.7/site-packages/pyspark/context.py\u001b[0m in \u001b[0;36m_do_init\u001b[0;34m(self, master, appName, sparkHome, pyFiles, environment, batchSize, serializer, conf, jsc, profiler_cls)\u001b[0m\n\u001b[1;32m    196\u001b[0m \u001b[0;34m\u001b[0m\u001b[0m\n\u001b[1;32m    197\u001b[0m         \u001b[0;31m# Create the Java SparkContext through Py4J\u001b[0m\u001b[0;34m\u001b[0m\u001b[0;34m\u001b[0m\u001b[0;34m\u001b[0m\u001b[0m\n\u001b[0;32m--> 198\u001b[0;31m         \u001b[0mself\u001b[0m\u001b[0;34m.\u001b[0m\u001b[0m_jsc\u001b[0m \u001b[0;34m=\u001b[0m \u001b[0mjsc\u001b[0m \u001b[0;32mor\u001b[0m \u001b[0mself\u001b[0m\u001b[0;34m.\u001b[0m\u001b[0m_initialize_context\u001b[0m\u001b[0;34m(\u001b[0m\u001b[0mself\u001b[0m\u001b[0;34m.\u001b[0m\u001b[0m_conf\u001b[0m\u001b[0;34m.\u001b[0m\u001b[0m_jconf\u001b[0m\u001b[0;34m)\u001b[0m\u001b[0;34m\u001b[0m\u001b[0;34m\u001b[0m\u001b[0m\n\u001b[0m\u001b[1;32m    199\u001b[0m         \u001b[0;31m# Reset the SparkConf to the one actually used by the SparkContext in JVM.\u001b[0m\u001b[0;34m\u001b[0m\u001b[0;34m\u001b[0m\u001b[0;34m\u001b[0m\u001b[0m\n\u001b[1;32m    200\u001b[0m         \u001b[0mself\u001b[0m\u001b[0;34m.\u001b[0m\u001b[0m_conf\u001b[0m \u001b[0;34m=\u001b[0m \u001b[0mSparkConf\u001b[0m\u001b[0;34m(\u001b[0m\u001b[0m_jconf\u001b[0m\u001b[0;34m=\u001b[0m\u001b[0mself\u001b[0m\u001b[0;34m.\u001b[0m\u001b[0m_jsc\u001b[0m\u001b[0;34m.\u001b[0m\u001b[0msc\u001b[0m\u001b[0;34m(\u001b[0m\u001b[0;34m)\u001b[0m\u001b[0;34m.\u001b[0m\u001b[0mconf\u001b[0m\u001b[0;34m(\u001b[0m\u001b[0;34m)\u001b[0m\u001b[0;34m)\u001b[0m\u001b[0;34m\u001b[0m\u001b[0;34m\u001b[0m\u001b[0m\n",
      "\u001b[0;32m~/anaconda3/lib/python3.7/site-packages/pyspark/context.py\u001b[0m in \u001b[0;36m_initialize_context\u001b[0;34m(self, jconf)\u001b[0m\n\u001b[1;32m    304\u001b[0m         \u001b[0mInitialize\u001b[0m \u001b[0mSparkContext\u001b[0m \u001b[0;32min\u001b[0m \u001b[0mfunction\u001b[0m \u001b[0mto\u001b[0m \u001b[0mallow\u001b[0m \u001b[0msubclass\u001b[0m \u001b[0mspecific\u001b[0m \u001b[0minitialization\u001b[0m\u001b[0;34m\u001b[0m\u001b[0;34m\u001b[0m\u001b[0m\n\u001b[1;32m    305\u001b[0m         \"\"\"\n\u001b[0;32m--> 306\u001b[0;31m         \u001b[0;32mreturn\u001b[0m \u001b[0mself\u001b[0m\u001b[0;34m.\u001b[0m\u001b[0m_jvm\u001b[0m\u001b[0;34m.\u001b[0m\u001b[0mJavaSparkContext\u001b[0m\u001b[0;34m(\u001b[0m\u001b[0mjconf\u001b[0m\u001b[0;34m)\u001b[0m\u001b[0;34m\u001b[0m\u001b[0;34m\u001b[0m\u001b[0m\n\u001b[0m\u001b[1;32m    307\u001b[0m \u001b[0;34m\u001b[0m\u001b[0m\n\u001b[1;32m    308\u001b[0m     \u001b[0;34m@\u001b[0m\u001b[0mclassmethod\u001b[0m\u001b[0;34m\u001b[0m\u001b[0;34m\u001b[0m\u001b[0m\n",
      "\u001b[0;32m~/anaconda3/lib/python3.7/site-packages/py4j/java_gateway.py\u001b[0m in \u001b[0;36m__call__\u001b[0;34m(self, *args)\u001b[0m\n\u001b[1;32m   1523\u001b[0m         \u001b[0manswer\u001b[0m \u001b[0;34m=\u001b[0m \u001b[0mself\u001b[0m\u001b[0;34m.\u001b[0m\u001b[0m_gateway_client\u001b[0m\u001b[0;34m.\u001b[0m\u001b[0msend_command\u001b[0m\u001b[0;34m(\u001b[0m\u001b[0mcommand\u001b[0m\u001b[0;34m)\u001b[0m\u001b[0;34m\u001b[0m\u001b[0;34m\u001b[0m\u001b[0m\n\u001b[1;32m   1524\u001b[0m         return_value = get_return_value(\n\u001b[0;32m-> 1525\u001b[0;31m             answer, self._gateway_client, None, self._fqn)\n\u001b[0m\u001b[1;32m   1526\u001b[0m \u001b[0;34m\u001b[0m\u001b[0m\n\u001b[1;32m   1527\u001b[0m         \u001b[0;32mfor\u001b[0m \u001b[0mtemp_arg\u001b[0m \u001b[0;32min\u001b[0m \u001b[0mtemp_args\u001b[0m\u001b[0;34m:\u001b[0m\u001b[0;34m\u001b[0m\u001b[0;34m\u001b[0m\u001b[0m\n",
      "\u001b[0;32m~/anaconda3/lib/python3.7/site-packages/py4j/protocol.py\u001b[0m in \u001b[0;36mget_return_value\u001b[0;34m(answer, gateway_client, target_id, name)\u001b[0m\n\u001b[1;32m    326\u001b[0m                 raise Py4JJavaError(\n\u001b[1;32m    327\u001b[0m                     \u001b[0;34m\"An error occurred while calling {0}{1}{2}.\\n\"\u001b[0m\u001b[0;34m.\u001b[0m\u001b[0;34m\u001b[0m\u001b[0;34m\u001b[0m\u001b[0m\n\u001b[0;32m--> 328\u001b[0;31m                     format(target_id, \".\", name), value)\n\u001b[0m\u001b[1;32m    329\u001b[0m             \u001b[0;32melse\u001b[0m\u001b[0;34m:\u001b[0m\u001b[0;34m\u001b[0m\u001b[0;34m\u001b[0m\u001b[0m\n\u001b[1;32m    330\u001b[0m                 raise Py4JError(\n",
      "\u001b[0;31mPy4JJavaError\u001b[0m: An error occurred while calling None.org.apache.spark.api.java.JavaSparkContext.\n: java.net.BindException: Cannot assign requested address: Service 'sparkDriver' failed after 16 retries (on a random free port)! Consider explicitly setting the appropriate binding address for the service 'sparkDriver' (for example spark.driver.bindAddress for SparkDriver) to the correct binding address.\n\tat sun.nio.ch.Net.bind0(Native Method)\n\tat sun.nio.ch.Net.bind(Net.java:433)\n\tat sun.nio.ch.Net.bind(Net.java:425)\n\tat sun.nio.ch.ServerSocketChannelImpl.bind(ServerSocketChannelImpl.java:223)\n\tat io.netty.channel.socket.nio.NioServerSocketChannel.doBind(NioServerSocketChannel.java:128)\n\tat io.netty.channel.AbstractChannel$AbstractUnsafe.bind(AbstractChannel.java:558)\n\tat io.netty.channel.DefaultChannelPipeline$HeadContext.bind(DefaultChannelPipeline.java:1283)\n\tat io.netty.channel.AbstractChannelHandlerContext.invokeBind(AbstractChannelHandlerContext.java:501)\n\tat io.netty.channel.AbstractChannelHandlerContext.bind(AbstractChannelHandlerContext.java:486)\n\tat io.netty.channel.DefaultChannelPipeline.bind(DefaultChannelPipeline.java:989)\n\tat io.netty.channel.AbstractChannel.bind(AbstractChannel.java:254)\n\tat io.netty.bootstrap.AbstractBootstrap$2.run(AbstractBootstrap.java:364)\n\tat io.netty.util.concurrent.AbstractEventExecutor.safeExecute(AbstractEventExecutor.java:163)\n\tat io.netty.util.concurrent.SingleThreadEventExecutor.runAllTasks(SingleThreadEventExecutor.java:403)\n\tat io.netty.channel.nio.NioEventLoop.run(NioEventLoop.java:463)\n\tat io.netty.util.concurrent.SingleThreadEventExecutor$5.run(SingleThreadEventExecutor.java:858)\n\tat io.netty.util.concurrent.DefaultThreadFactory$DefaultRunnableDecorator.run(DefaultThreadFactory.java:138)\n\tat java.lang.Thread.run(Thread.java:748)\n"
     ]
    }
   ],
   "source": [
    "worker_list = list(range(1, N_WORKERS + 1))\n",
    "time_list = []\n",
    "n_folds = 10\n",
    "\n",
    "for workers in worker_list:\n",
    "    print('Starting with %d worker(s)' % workers, end ='')\n",
    "    if 'sc' in locals():\n",
    "        sc.stop()\n",
    "    sc = pyspark.SparkContext('local[' + str(workers) + ']')\n",
    "\n",
    "    rdd = read_file(FILE_PATH)\n",
    "    # rdd = rdd.sample(True, 10)\n",
    "    rdd = standardise(rdd)\n",
    "\n",
    "    _, _, _, tmp_time = train(\n",
    "        rdd,\n",
    "        iterations=100,\n",
    "        verbose=False\n",
    "    )\n",
    "    \n",
    "    time_list.append(tmp_time)\n",
    "    print('\\t|\\tFinished in %0.2f s\\n-----' % tmp_time)\n",
    "print('Ended.')"
   ]
  },
  {
   "cell_type": "markdown",
   "metadata": {},
   "source": [
    "This functions plots and eventually saves the performance curve, given the array of times required previously obtained. The parameter **interpolate** allows to manage the line interpolation.  \n",
    "\n",
    "The function is then executed."
   ]
  },
  {
   "cell_type": "code",
   "execution_count": 54,
   "metadata": {},
   "outputs": [
    {
     "data": {
      "text/plain": [
       "[]"
      ]
     },
     "execution_count": 54,
     "metadata": {},
     "output_type": "execute_result"
    }
   ],
   "source": [
    "time_list"
   ]
  },
  {
   "cell_type": "code",
   "execution_count": 55,
   "metadata": {},
   "outputs": [],
   "source": [
    "def performance_curve(time_array, n_init, save=False, interpolate=False):\n",
    "    t = np.array(time_array.copy())\n",
    "    x_axis = [x for x in range(1, N_WORKERS + 1)]\n",
    "    \n",
    "    if interpolate: \n",
    "        spl = make_interp_spline(x_axis, t, k=3)\n",
    "        x_axis = np.linspace(1, N_WORKERS, 300)\n",
    "        t = spl(x_axis)\n",
    "\n",
    "    plt.style.use('seaborn-darkgrid')\n",
    "    plt.plot(x_axis, t, linewidth=2)\n",
    "    plt.gcf().subplots_adjust(bottom=0.1)\n",
    "    plt.title('Performance Curve')\n",
    "    plt.xlabel('Workers')\n",
    "    plt.ylabel('Time (s)')\n",
    "    if save:\n",
    "        if interpolate:\n",
    "            name = 'performance_curve_int.'\n",
    "        else:\n",
    "            name = 'performance_curve.'\n",
    "        plt.savefig(OUT_PATH + str(n_init)  + 'it__' + name + IMG_FORMAT)\n",
    "    plt.show()"
   ]
  },
  {
   "cell_type": "code",
   "execution_count": 56,
   "metadata": {},
   "outputs": [
    {
     "ename": "ValueError",
     "evalue": "x and y are incompatible.",
     "output_type": "error",
     "traceback": [
      "\u001b[0;31m---------------------------------------------------------------------------\u001b[0m",
      "\u001b[0;31mValueError\u001b[0m                                Traceback (most recent call last)",
      "\u001b[0;32m<ipython-input-56-85f5c9ba27b3>\u001b[0m in \u001b[0;36m<module>\u001b[0;34m\u001b[0m\n\u001b[1;32m      1\u001b[0m performance_curve(time_list, \n\u001b[1;32m      2\u001b[0m                   \u001b[0mn_folds\u001b[0m\u001b[0;34m,\u001b[0m\u001b[0;34m\u001b[0m\u001b[0;34m\u001b[0m\u001b[0m\n\u001b[0;32m----> 3\u001b[0;31m                   \u001b[0minterpolate\u001b[0m\u001b[0;34m=\u001b[0m\u001b[0;32mTrue\u001b[0m\u001b[0;34m\u001b[0m\u001b[0;34m\u001b[0m\u001b[0m\n\u001b[0m\u001b[1;32m      4\u001b[0m                  )\n",
      "\u001b[0;32m<ipython-input-55-d2641b7e2c4d>\u001b[0m in \u001b[0;36mperformance_curve\u001b[0;34m(time_array, n_init, save, interpolate)\u001b[0m\n\u001b[1;32m      4\u001b[0m \u001b[0;34m\u001b[0m\u001b[0m\n\u001b[1;32m      5\u001b[0m     \u001b[0;32mif\u001b[0m \u001b[0minterpolate\u001b[0m\u001b[0;34m:\u001b[0m\u001b[0;34m\u001b[0m\u001b[0;34m\u001b[0m\u001b[0m\n\u001b[0;32m----> 6\u001b[0;31m         \u001b[0mspl\u001b[0m \u001b[0;34m=\u001b[0m \u001b[0mmake_interp_spline\u001b[0m\u001b[0;34m(\u001b[0m\u001b[0mx_axis\u001b[0m\u001b[0;34m,\u001b[0m \u001b[0mt\u001b[0m\u001b[0;34m,\u001b[0m \u001b[0mk\u001b[0m\u001b[0;34m=\u001b[0m\u001b[0;36m3\u001b[0m\u001b[0;34m)\u001b[0m\u001b[0;34m\u001b[0m\u001b[0;34m\u001b[0m\u001b[0m\n\u001b[0m\u001b[1;32m      7\u001b[0m         \u001b[0mx_axis\u001b[0m \u001b[0;34m=\u001b[0m \u001b[0mnp\u001b[0m\u001b[0;34m.\u001b[0m\u001b[0mlinspace\u001b[0m\u001b[0;34m(\u001b[0m\u001b[0;36m1\u001b[0m\u001b[0;34m,\u001b[0m \u001b[0mN_WORKERS\u001b[0m\u001b[0;34m,\u001b[0m \u001b[0;36m300\u001b[0m\u001b[0;34m)\u001b[0m\u001b[0;34m\u001b[0m\u001b[0;34m\u001b[0m\u001b[0m\n\u001b[1;32m      8\u001b[0m         \u001b[0mt\u001b[0m \u001b[0;34m=\u001b[0m \u001b[0mspl\u001b[0m\u001b[0;34m(\u001b[0m\u001b[0mx_axis\u001b[0m\u001b[0;34m)\u001b[0m\u001b[0;34m\u001b[0m\u001b[0;34m\u001b[0m\u001b[0m\n",
      "\u001b[0;32m~/anaconda3/lib/python3.7/site-packages/scipy/interpolate/_bsplines.py\u001b[0m in \u001b[0;36mmake_interp_spline\u001b[0;34m(x, y, k, t, bc_type, axis, check_finite)\u001b[0m\n\u001b[1;32m    803\u001b[0m         \u001b[0;32mraise\u001b[0m \u001b[0mValueError\u001b[0m\u001b[0;34m(\u001b[0m\u001b[0;34m\"Expect t to be a 1-D sorted array_like.\"\u001b[0m\u001b[0;34m)\u001b[0m\u001b[0;34m\u001b[0m\u001b[0;34m\u001b[0m\u001b[0m\n\u001b[1;32m    804\u001b[0m     \u001b[0;32mif\u001b[0m \u001b[0mx\u001b[0m\u001b[0;34m.\u001b[0m\u001b[0msize\u001b[0m \u001b[0;34m!=\u001b[0m \u001b[0my\u001b[0m\u001b[0;34m.\u001b[0m\u001b[0mshape\u001b[0m\u001b[0;34m[\u001b[0m\u001b[0;36m0\u001b[0m\u001b[0;34m]\u001b[0m\u001b[0;34m:\u001b[0m\u001b[0;34m\u001b[0m\u001b[0;34m\u001b[0m\u001b[0m\n\u001b[0;32m--> 805\u001b[0;31m         \u001b[0;32mraise\u001b[0m \u001b[0mValueError\u001b[0m\u001b[0;34m(\u001b[0m\u001b[0;34m'x and y are incompatible.'\u001b[0m\u001b[0;34m)\u001b[0m\u001b[0;34m\u001b[0m\u001b[0;34m\u001b[0m\u001b[0m\n\u001b[0m\u001b[1;32m    806\u001b[0m     \u001b[0;32mif\u001b[0m \u001b[0mt\u001b[0m\u001b[0;34m.\u001b[0m\u001b[0msize\u001b[0m \u001b[0;34m<\u001b[0m \u001b[0mx\u001b[0m\u001b[0;34m.\u001b[0m\u001b[0msize\u001b[0m \u001b[0;34m+\u001b[0m \u001b[0mk\u001b[0m \u001b[0;34m+\u001b[0m \u001b[0;36m1\u001b[0m\u001b[0;34m:\u001b[0m\u001b[0;34m\u001b[0m\u001b[0;34m\u001b[0m\u001b[0m\n\u001b[1;32m    807\u001b[0m         raise ValueError('Got %d knots, need at least %d.' %\n",
      "\u001b[0;31mValueError\u001b[0m: x and y are incompatible."
     ]
    }
   ],
   "source": [
    "performance_curve(time_list, \n",
    "                  n_folds,\n",
    "                  interpolate=True\n",
    "                 )"
   ]
  },
  {
   "cell_type": "markdown",
   "metadata": {},
   "source": [
    "This functions plots and eventually saves the speed up curve, given the array of times required previously obtained. The parameter **interpolate** allows to manage the line interpolation.\n",
    "\n",
    "The function in then run."
   ]
  },
  {
   "cell_type": "code",
   "execution_count": 47,
   "metadata": {},
   "outputs": [],
   "source": [
    "def speed_up_curve(time_array, n_init, save=False, interpolate=False):\n",
    "    t = [time_array[0]/x for x in time_array]\n",
    "    x_axis = [x for x in range(1, N_WORKERS + 1)]\n",
    "    \n",
    "    if interpolate: \n",
    "        spl = make_interp_spline(x_axis, t, k=3)\n",
    "        x_axis = np.linspace(1, N_WORKERS, 300)\n",
    "        t = spl(x_axis)\n",
    "\n",
    "    plt.style.use('seaborn-darkgrid')\n",
    "    plt.plot(x_axis, t, linewidth=2)\n",
    "    plt.gcf().subplots_adjust(bottom=0.1)\n",
    "    plt.title('Speed Up Curve')\n",
    "    plt.xlabel('Workers')\n",
    "    plt.ylabel('Time ratio')\n",
    "    if save:\n",
    "        if interpolate:\n",
    "            name = 'speed_up_curve_int-'\n",
    "        else:\n",
    "            name = 'speed_up_curve-'\n",
    "        plt.savefig(OUT_PATH + str(n_init)  + 'it-' + name + IMG_FORMAT)\n",
    "    plt.show()"
   ]
  },
  {
   "cell_type": "code",
   "execution_count": 48,
   "metadata": {},
   "outputs": [
    {
     "data": {
      "image/png": "[encoded data removed]",
      "text/plain": [
       "<Figure size 432x288 with 1 Axes>"
      ]
     },
     "metadata": {},
     "output_type": "display_data"
    }
   ],
   "source": [
    "speed_up_curve(time_list, \n",
    "               n_folds,\n",
    "               interpolate=True\n",
    "              )"
   ]
  },
  {
   "cell_type": "code",
   "execution_count": null,
   "metadata": {},
   "outputs": [],
   "source": []
  }
 ],
 "metadata": {
  "kernelspec": {
   "display_name": "Python 3",
   "language": "python",
   "name": "python3"
  },
  "language_info": {
   "codemirror_mode": {
    "name": "ipython",
    "version": 3
   },
   "file_extension": ".py",
   "mimetype": "text/x-python",
   "name": "python",
   "nbconvert_exporter": "python",
   "pygments_lexer": "ipython3",
   "version": "3.7.4"
  }
 },
 "nbformat": 4,
 "nbformat_minor": 2
}
